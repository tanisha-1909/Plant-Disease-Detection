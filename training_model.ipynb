{
 "cells": [
  {
   "cell_type": "markdown",
   "metadata": {},
   "source": [
    "## Importing libraries"
   ]
  },
  {
   "cell_type": "code",
   "execution_count": 1,
   "metadata": {},
   "outputs": [],
   "source": [
    "import tensorflow as tf\n",
    "import matplotlib.pyplot as plt\n",
    "import pandas as pd\n",
    "import seaborn as sns"
   ]
  },
  {
   "cell_type": "code",
   "execution_count": 2,
   "metadata": {},
   "outputs": [
    {
     "name": "stdout",
     "output_type": "stream",
     "text": [
      "tf.Tensor(-257.30798, shape=(), dtype=float32)\n"
     ]
    }
   ],
   "source": [
    "print(tf.reduce_sum(tf.random.normal([1000, 1000])))"
   ]
  },
  {
   "cell_type": "code",
   "execution_count": 3,
   "metadata": {},
   "outputs": [
    {
     "name": "stdout",
     "output_type": "stream",
     "text": [
      "[PhysicalDevice(name='/physical_device:CPU:0', device_type='CPU')]\n"
     ]
    }
   ],
   "source": [
    "print(tf.config.list_physical_devices('CPU'))"
   ]
  },
  {
   "cell_type": "markdown",
   "metadata": {},
   "source": [
    "## Data preprocessing"
   ]
  },
  {
   "cell_type": "markdown",
   "metadata": {},
   "source": [
    "### Training Image Preprocessing"
   ]
  },
  {
   "cell_type": "code",
   "execution_count": 4,
   "metadata": {},
   "outputs": [
    {
     "name": "stdout",
     "output_type": "stream",
     "text": [
      "Found 47391 files belonging to 26 classes.\n"
     ]
    }
   ],
   "source": [
    "training_set=tf.keras.utils.image_dataset_from_directory(\n",
    "    \"train/train\",\n",
    "    labels=\"inferred\",\n",
    "    label_mode=\"categorical\",\n",
    "    class_names=None,\n",
    "    color_mode=\"rgb\",\n",
    "    batch_size=32,\n",
    "    image_size=(128, 128),\n",
    "    shuffle=True,\n",
    "    seed=None,\n",
    "    validation_split=None,\n",
    "    subset=None,\n",
    "    interpolation=\"bilinear\",\n",
    "    follow_links=False,\n",
    "    crop_to_aspect_ratio=False,\n",
    ")"
   ]
  },
  {
   "cell_type": "markdown",
   "metadata": {},
   "source": [
    "## validation image processing"
   ]
  },
  {
   "cell_type": "code",
   "execution_count": 5,
   "metadata": {},
   "outputs": [
    {
     "name": "stdout",
     "output_type": "stream",
     "text": [
      "Found 17572 files belonging to 38 classes.\n"
     ]
    }
   ],
   "source": [
    "validation_set= training_set=tf.keras.utils.image_dataset_from_directory(\n",
    "    \"valid/valid\",\n",
    "    labels=\"inferred\",\n",
    "    label_mode=\"categorical\",\n",
    "    class_names=None,\n",
    "    color_mode=\"rgb\",\n",
    "    batch_size=32,\n",
    "    image_size=(128, 128),\n",
    "    shuffle=True,\n",
    "    seed=None,\n",
    "    validation_split=None,\n",
    "    subset=None,\n",
    "    interpolation=\"bilinear\",\n",
    "    follow_links=False,\n",
    "    crop_to_aspect_ratio=False,\n",
    ")"
   ]
  },
  {
   "cell_type": "code",
   "execution_count": 6,
   "metadata": {},
   "outputs": [
    {
     "data": {
      "text/plain": [
       "<BatchDataset element_spec=(TensorSpec(shape=(None, 128, 128, 3), dtype=tf.float32, name=None), TensorSpec(shape=(None, 38), dtype=tf.float32, name=None))>"
      ]
     },
     "execution_count": 6,
     "metadata": {},
     "output_type": "execute_result"
    }
   ],
   "source": [
    "training_set"
   ]
  },
  {
   "cell_type": "code",
   "execution_count": 7,
   "metadata": {},
   "outputs": [
    {
     "name": "stdout",
     "output_type": "stream",
     "text": [
      "tf.Tensor(\n",
      "[[[[255.   255.   255.  ]\n",
      "   [255.   255.   255.  ]\n",
      "   [255.   255.   255.  ]\n",
      "   ...\n",
      "   [255.   255.   255.  ]\n",
      "   [255.   255.   255.  ]\n",
      "   [255.   255.   255.  ]]\n",
      "\n",
      "  [[255.   255.   255.  ]\n",
      "   [255.   255.   255.  ]\n",
      "   [255.   255.   255.  ]\n",
      "   ...\n",
      "   [255.   255.   255.  ]\n",
      "   [255.   255.   255.  ]\n",
      "   [255.   255.   255.  ]]\n",
      "\n",
      "  [[255.   255.   255.  ]\n",
      "   [255.   255.   255.  ]\n",
      "   [255.   255.   255.  ]\n",
      "   ...\n",
      "   [255.   255.   255.  ]\n",
      "   [255.   255.   255.  ]\n",
      "   [255.   255.   255.  ]]\n",
      "\n",
      "  ...\n",
      "\n",
      "  [[255.   255.   255.  ]\n",
      "   [255.   255.   255.  ]\n",
      "   [255.   255.   255.  ]\n",
      "   ...\n",
      "   [255.   255.   255.  ]\n",
      "   [255.   255.   255.  ]\n",
      "   [255.   255.   255.  ]]\n",
      "\n",
      "  [[255.   255.   255.  ]\n",
      "   [255.   255.   255.  ]\n",
      "   [255.   255.   255.  ]\n",
      "   ...\n",
      "   [255.   255.   255.  ]\n",
      "   [255.   255.   255.  ]\n",
      "   [255.   255.   255.  ]]\n",
      "\n",
      "  [[255.   255.   255.  ]\n",
      "   [255.   255.   255.  ]\n",
      "   [255.   255.   255.  ]\n",
      "   ...\n",
      "   [255.   255.   255.  ]\n",
      "   [255.   255.   255.  ]\n",
      "   [255.   255.   255.  ]]]\n",
      "\n",
      "\n",
      " [[[171.5  167.5  182.5 ]\n",
      "   [159.25 155.25 170.25]\n",
      "   [164.   160.   175.  ]\n",
      "   ...\n",
      "   [162.25 157.25 177.25]\n",
      "   [151.5  146.5  166.5 ]\n",
      "   [156.   151.   171.  ]]\n",
      "\n",
      "  [[192.5  188.5  203.5 ]\n",
      "   [175.5  171.5  186.5 ]\n",
      "   [166.   162.   177.  ]\n",
      "   ...\n",
      "   [168.5  163.5  183.5 ]\n",
      "   [162.5  157.5  177.5 ]\n",
      "   [185.25 180.25 200.25]]\n",
      "\n",
      "  [[176.5  172.5  187.5 ]\n",
      "   [160.75 156.75 171.75]\n",
      "   [153.   149.   164.  ]\n",
      "   ...\n",
      "   [157.5  152.5  172.5 ]\n",
      "   [170.25 165.25 185.25]\n",
      "   [152.25 147.25 167.25]]\n",
      "\n",
      "  ...\n",
      "\n",
      "  [[ 84.75  76.75  99.75]\n",
      "   [ 92.    84.   107.  ]\n",
      "   [ 84.25  76.25  99.25]\n",
      "   ...\n",
      "   [ 70.5   62.5   86.5 ]\n",
      "   [ 74.    66.    90.  ]\n",
      "   [ 88.    80.   104.  ]]\n",
      "\n",
      "  [[ 89.5   81.5  104.5 ]\n",
      "   [ 95.    87.   110.  ]\n",
      "   [ 80.25  72.25  95.25]\n",
      "   ...\n",
      "   [ 86.5   78.5  102.5 ]\n",
      "   [ 77.75  69.75  93.75]\n",
      "   [ 76.    68.    92.  ]]\n",
      "\n",
      "  [[ 95.75  87.75 110.75]\n",
      "   [ 94.5   86.5  109.5 ]\n",
      "   [ 92.5   84.5  107.5 ]\n",
      "   ...\n",
      "   [ 69.75  61.75  85.75]\n",
      "   [ 95.5   87.5  111.5 ]\n",
      "   [ 81.75  73.75  97.75]]]\n",
      "\n",
      "\n",
      " [[[190.5  179.5  173.5 ]\n",
      "   [193.   182.   176.  ]\n",
      "   [192.5  181.5  175.5 ]\n",
      "   ...\n",
      "   [172.   155.   148.  ]\n",
      "   [195.   178.   171.  ]\n",
      "   [193.5  174.5  168.5 ]]\n",
      "\n",
      "  [[189.5  178.5  172.5 ]\n",
      "   [188.75 177.75 171.75]\n",
      "   [189.   178.   172.  ]\n",
      "   ...\n",
      "   [192.25 175.25 168.25]\n",
      "   [189.25 172.25 165.25]\n",
      "   [191.5  174.5  167.5 ]]\n",
      "\n",
      "  [[184.75 173.75 167.75]\n",
      "   [194.   183.   177.  ]\n",
      "   [191.   180.   174.  ]\n",
      "   ...\n",
      "   [193.75 178.75 171.75]\n",
      "   [193.75 178.75 171.75]\n",
      "   [183.75 168.75 161.75]]\n",
      "\n",
      "  ...\n",
      "\n",
      "  [[190.5  179.5  175.5 ]\n",
      "   [194.25 183.25 179.25]\n",
      "   [197.75 186.75 182.75]\n",
      "   ...\n",
      "   [188.5  171.5  164.5 ]\n",
      "   [190.   173.   166.  ]\n",
      "   [186.25 169.25 162.25]]\n",
      "\n",
      "  [[195.5  184.5  180.5 ]\n",
      "   [194.   183.   179.  ]\n",
      "   [192.5  181.5  177.5 ]\n",
      "   ...\n",
      "   [185.5  168.5  161.5 ]\n",
      "   [185.5  168.5  161.5 ]\n",
      "   [187.   170.   163.  ]]\n",
      "\n",
      "  [[198.   187.   183.  ]\n",
      "   [191.5  180.5  176.5 ]\n",
      "   [189.75 178.75 174.75]\n",
      "   ...\n",
      "   [187.75 170.75 163.75]\n",
      "   [187.75 170.75 163.75]\n",
      "   [188.   171.   164.  ]]]\n",
      "\n",
      "\n",
      " ...\n",
      "\n",
      "\n",
      " [[[127.   117.   125.  ]\n",
      "   [137.75 127.75 135.75]\n",
      "   [114.5  104.5  112.5 ]\n",
      "   ...\n",
      "   [135.75 128.75 135.75]\n",
      "   [116.75 109.75 116.75]\n",
      "   [ 91.5   84.5   91.5 ]]\n",
      "\n",
      "  [[127.5  117.5  125.5 ]\n",
      "   [128.5  118.5  126.5 ]\n",
      "   [112.75 102.75 110.75]\n",
      "   ...\n",
      "   [149.25 142.25 149.25]\n",
      "   [134.75 127.75 134.75]\n",
      "   [123.75 116.75 123.75]]\n",
      "\n",
      "  [[123.25 113.25 121.25]\n",
      "   [124.75 114.75 122.75]\n",
      "   [137.75 127.75 135.75]\n",
      "   ...\n",
      "   [154.5  147.5  154.5 ]\n",
      "   [147.5  140.5  147.5 ]\n",
      "   [137.25 130.25 137.25]]\n",
      "\n",
      "  ...\n",
      "\n",
      "  [[167.25 158.25 161.25]\n",
      "   [170.5  161.5  164.5 ]\n",
      "   [166.   157.   160.  ]\n",
      "   ...\n",
      "   [168.   158.   157.  ]\n",
      "   [169.5  159.5  158.5 ]\n",
      "   [169.25 159.25 158.25]]\n",
      "\n",
      "  [[171.75 162.75 165.75]\n",
      "   [168.75 159.75 162.75]\n",
      "   [158.   149.   152.  ]\n",
      "   ...\n",
      "   [164.75 154.75 153.75]\n",
      "   [163.5  153.5  152.5 ]\n",
      "   [167.   157.   156.  ]]\n",
      "\n",
      "  [[164.   155.   158.  ]\n",
      "   [168.75 159.75 162.75]\n",
      "   [166.75 157.75 160.75]\n",
      "   ...\n",
      "   [170.   160.   159.  ]\n",
      "   [169.5  159.5  158.5 ]\n",
      "   [166.75 156.75 155.75]]]\n",
      "\n",
      "\n",
      " [[[  0.     0.     0.  ]\n",
      "   [  0.     0.     0.  ]\n",
      "   [  0.     0.     0.  ]\n",
      "   ...\n",
      "   [  0.     0.     0.  ]\n",
      "   [  0.     0.     0.  ]\n",
      "   [  0.     0.     0.  ]]\n",
      "\n",
      "  [[  0.     0.     0.  ]\n",
      "   [  0.     0.     0.  ]\n",
      "   [  0.     0.     0.  ]\n",
      "   ...\n",
      "   [  0.     0.     0.  ]\n",
      "   [  0.     0.     0.  ]\n",
      "   [  0.     0.     0.  ]]\n",
      "\n",
      "  [[  0.     0.     0.  ]\n",
      "   [  0.     0.     0.  ]\n",
      "   [  0.     0.     0.  ]\n",
      "   ...\n",
      "   [  0.     0.     0.  ]\n",
      "   [  0.     0.     0.  ]\n",
      "   [  0.     0.     0.  ]]\n",
      "\n",
      "  ...\n",
      "\n",
      "  [[  0.     0.     0.  ]\n",
      "   [  0.     0.     0.  ]\n",
      "   [  0.     0.     0.  ]\n",
      "   ...\n",
      "   [  0.     0.     0.  ]\n",
      "   [  0.     0.     0.  ]\n",
      "   [  0.     0.     0.  ]]\n",
      "\n",
      "  [[  0.     0.     0.  ]\n",
      "   [  0.     0.     0.  ]\n",
      "   [  0.     0.     0.  ]\n",
      "   ...\n",
      "   [  0.     0.     0.  ]\n",
      "   [  0.     0.     0.  ]\n",
      "   [  0.     0.     0.  ]]\n",
      "\n",
      "  [[  0.     0.     0.  ]\n",
      "   [  0.     0.     0.  ]\n",
      "   [  0.     0.     0.  ]\n",
      "   ...\n",
      "   [  0.     0.     0.  ]\n",
      "   [  0.     0.     0.  ]\n",
      "   [  0.     0.     0.  ]]]\n",
      "\n",
      "\n",
      " [[[146.75 132.75 132.75]\n",
      "   [140.   126.   126.  ]\n",
      "   [141.5  127.5  127.5 ]\n",
      "   ...\n",
      "   [150.25 139.25 143.25]\n",
      "   [140.   129.   133.  ]\n",
      "   [147.25 136.25 140.25]]\n",
      "\n",
      "  [[150.5  136.5  136.5 ]\n",
      "   [143.5  129.5  129.5 ]\n",
      "   [151.75 137.75 137.75]\n",
      "   ...\n",
      "   [160.5  149.5  153.5 ]\n",
      "   [164.   153.   157.  ]\n",
      "   [153.5  142.5  146.5 ]]\n",
      "\n",
      "  [[153.5  139.5  139.5 ]\n",
      "   [154.75 140.75 140.75]\n",
      "   [159.75 145.75 145.75]\n",
      "   ...\n",
      "   [159.75 148.75 152.75]\n",
      "   [159.   148.   152.  ]\n",
      "   [155.25 144.25 148.25]]\n",
      "\n",
      "  ...\n",
      "\n",
      "  [[144.75 133.75 141.75]\n",
      "   [130.   119.   127.  ]\n",
      "   [130.75 119.75 127.75]\n",
      "   ...\n",
      "   [136.   125.   133.  ]\n",
      "   [134.75 123.75 131.75]\n",
      "   [136.   125.   133.  ]]\n",
      "\n",
      "  [[135.   124.   132.  ]\n",
      "   [138.5  127.5  135.5 ]\n",
      "   [142.   131.   139.  ]\n",
      "   ...\n",
      "   [143.   132.   140.  ]\n",
      "   [129.25 118.25 126.25]\n",
      "   [125.75 114.75 122.75]]\n",
      "\n",
      "  [[144.75 133.75 141.75]\n",
      "   [149.25 138.25 146.25]\n",
      "   [152.75 141.75 149.75]\n",
      "   ...\n",
      "   [133.5  122.5  130.5 ]\n",
      "   [143.25 132.25 140.25]\n",
      "   [134.25 123.25 131.25]]]], shape=(32, 128, 128, 3), dtype=float32) (32, 128, 128, 3)\n",
      "tf.Tensor(\n",
      "[[0. 0. 0. ... 0. 0. 0.]\n",
      " [0. 0. 0. ... 0. 0. 0.]\n",
      " [0. 0. 0. ... 0. 0. 0.]\n",
      " ...\n",
      " [0. 0. 0. ... 0. 0. 0.]\n",
      " [0. 0. 0. ... 0. 0. 0.]\n",
      " [0. 0. 0. ... 0. 0. 0.]], shape=(32, 38), dtype=float32) (32, 38)\n"
     ]
    }
   ],
   "source": [
    "for x,y in training_set:\n",
    "    print(x,x.shape)\n",
    "    print(y,y.shape)\n",
    "    break"
   ]
  },
  {
   "cell_type": "markdown",
   "metadata": {},
   "source": [
    "## Building Model"
   ]
  },
  {
   "cell_type": "code",
   "execution_count": 8,
   "metadata": {},
   "outputs": [],
   "source": [
    "from tensorflow.keras.layers import Dense,Conv2D,MaxPool2D,Flatten,Dropout\n",
    "from tensorflow.keras.models import Sequential"
   ]
  },
  {
   "cell_type": "code",
   "execution_count": 9,
   "metadata": {},
   "outputs": [],
   "source": [
    "model= Sequential()"
   ]
  },
  {
   "cell_type": "code",
   "execution_count": 10,
   "metadata": {},
   "outputs": [],
   "source": [
    "### Building Convulation Layer"
   ]
  },
  {
   "cell_type": "code",
   "execution_count": 11,
   "metadata": {},
   "outputs": [],
   "source": [
    "model.add(Conv2D(filters=32,kernel_size=3,padding='same',activation='relu', input_shape=[128,128,3]))\n",
    "model.add(Conv2D(filters=32,kernel_size=3,activation='relu'))\n",
    "model.add(MaxPool2D(pool_size=2 , strides=2))"
   ]
  },
  {
   "cell_type": "code",
   "execution_count": 12,
   "metadata": {},
   "outputs": [],
   "source": [
    "model.add(Conv2D(filters=64,kernel_size=3,padding='same',activation='relu', input_shape=[128,128,3]))\n",
    "model.add(Conv2D(filters=64,kernel_size=3,activation='relu'))\n",
    "model.add(MaxPool2D(pool_size=2 , strides=2))"
   ]
  },
  {
   "cell_type": "code",
   "execution_count": 13,
   "metadata": {},
   "outputs": [],
   "source": [
    "model.add(Conv2D(filters=128,kernel_size=3,padding='same',activation='relu', input_shape=[128,128,3]))\n",
    "model.add(Conv2D(filters=128,kernel_size=3,activation='relu'))\n",
    "model.add(MaxPool2D(pool_size=2 , strides=2))"
   ]
  },
  {
   "cell_type": "code",
   "execution_count": 14,
   "metadata": {},
   "outputs": [],
   "source": [
    "model.add(Conv2D(filters=256,kernel_size=3,padding='same',activation='relu'))\n",
    "model.add(Conv2D(filters=256,kernel_size=3,activation='relu'))\n",
    "model.add(MaxPool2D(pool_size=2 , strides=2))"
   ]
  },
  {
   "cell_type": "code",
   "execution_count": 15,
   "metadata": {},
   "outputs": [],
   "source": [
    "model.add(Conv2D(filters=512,kernel_size=3,padding='same',activation='relu'))\n",
    "model.add(Conv2D(filters=512,kernel_size=3,activation='relu'))\n",
    "model.add(MaxPool2D(pool_size=2 , strides=2))"
   ]
  },
  {
   "cell_type": "code",
   "execution_count": 16,
   "metadata": {},
   "outputs": [],
   "source": [
    "model.add(Dropout(0.25))   #to avoid overfitting"
   ]
  },
  {
   "cell_type": "code",
   "execution_count": 17,
   "metadata": {},
   "outputs": [],
   "source": [
    "model.add(Flatten())"
   ]
  },
  {
   "cell_type": "code",
   "execution_count": 18,
   "metadata": {},
   "outputs": [],
   "source": [
    "model.add(Dense(units=1500,activation='relu')) ##Increase neurons"
   ]
  },
  {
   "cell_type": "code",
   "execution_count": 19,
   "metadata": {},
   "outputs": [],
   "source": [
    "model.add(Dropout(0.4))"
   ]
  },
  {
   "cell_type": "code",
   "execution_count": 20,
   "metadata": {},
   "outputs": [],
   "source": [
    "##output layer\n",
    "model.add(Dense(units=38, activation='softmax'))"
   ]
  },
  {
   "cell_type": "markdown",
   "metadata": {},
   "source": [
    "## Compiling Model"
   ]
  },
  {
   "cell_type": "markdown",
   "metadata": {},
   "source": [
    "### to avoid overshooting\n",
    "1. we repalace learning rate from default 0.001 to 0.0001\n",
    "2. there may be chance of underfitting , so increase number of neuron\n",
    "3. we add more convuation layer to extract more feature from image there may be possibility that model is confusing due to lack of feature"
   ]
  },
  {
   "cell_type": "code",
   "execution_count": 21,
   "metadata": {},
   "outputs": [],
   "source": [
    "model.compile(optimizer=tf.keras.optimizers.Adam(\n",
    "    learning_rate=0.0001),loss='categorical_crossentropy', metrics=['accuracy'])"
   ]
  },
  {
   "cell_type": "code",
   "execution_count": 22,
   "metadata": {},
   "outputs": [
    {
     "name": "stdout",
     "output_type": "stream",
     "text": [
      "Model: \"sequential\"\n",
      "_________________________________________________________________\n",
      " Layer (type)                Output Shape              Param #   \n",
      "=================================================================\n",
      " conv2d (Conv2D)             (None, 128, 128, 32)      896       \n",
      "                                                                 \n",
      " conv2d_1 (Conv2D)           (None, 126, 126, 32)      9248      \n",
      "                                                                 \n",
      " max_pooling2d (MaxPooling2D  (None, 63, 63, 32)       0         \n",
      " )                                                               \n",
      "                                                                 \n",
      " conv2d_2 (Conv2D)           (None, 63, 63, 64)        18496     \n",
      "                                                                 \n",
      " conv2d_3 (Conv2D)           (None, 61, 61, 64)        36928     \n",
      "                                                                 \n",
      " max_pooling2d_1 (MaxPooling  (None, 30, 30, 64)       0         \n",
      " 2D)                                                             \n",
      "                                                                 \n",
      " conv2d_4 (Conv2D)           (None, 30, 30, 128)       73856     \n",
      "                                                                 \n",
      " conv2d_5 (Conv2D)           (None, 28, 28, 128)       147584    \n",
      "                                                                 \n",
      " max_pooling2d_2 (MaxPooling  (None, 14, 14, 128)      0         \n",
      " 2D)                                                             \n",
      "                                                                 \n",
      " conv2d_6 (Conv2D)           (None, 14, 14, 256)       295168    \n",
      "                                                                 \n",
      " conv2d_7 (Conv2D)           (None, 12, 12, 256)       590080    \n",
      "                                                                 \n",
      " max_pooling2d_3 (MaxPooling  (None, 6, 6, 256)        0         \n",
      " 2D)                                                             \n",
      "                                                                 \n",
      " conv2d_8 (Conv2D)           (None, 6, 6, 512)         1180160   \n",
      "                                                                 \n",
      " conv2d_9 (Conv2D)           (None, 4, 4, 512)         2359808   \n",
      "                                                                 \n",
      " max_pooling2d_4 (MaxPooling  (None, 2, 2, 512)        0         \n",
      " 2D)                                                             \n",
      "                                                                 \n",
      " dropout (Dropout)           (None, 2, 2, 512)         0         \n",
      "                                                                 \n",
      " flatten (Flatten)           (None, 2048)              0         \n",
      "                                                                 \n",
      " dense (Dense)               (None, 1500)              3073500   \n",
      "                                                                 \n",
      " dropout_1 (Dropout)         (None, 1500)              0         \n",
      "                                                                 \n",
      " dense_1 (Dense)             (None, 38)                57038     \n",
      "                                                                 \n",
      "=================================================================\n",
      "Total params: 7,842,762\n",
      "Trainable params: 7,842,762\n",
      "Non-trainable params: 0\n",
      "_________________________________________________________________\n"
     ]
    }
   ],
   "source": [
    "model.summary()"
   ]
  },
  {
   "cell_type": "markdown",
   "metadata": {},
   "source": [
    "## Model training ---"
   ]
  },
  {
   "cell_type": "code",
   "execution_count": 23,
   "metadata": {},
   "outputs": [
    {
     "name": "stdout",
     "output_type": "stream",
     "text": [
      "Epoch 1/10\n",
      "550/550 [==============================] - 2140s 4s/step - loss: 2.6498 - accuracy: 0.2568 - val_loss: 1.9295 - val_accuracy: 0.4361\n",
      "Epoch 2/10\n",
      "550/550 [==============================] - 1770s 3s/step - loss: 1.3261 - accuracy: 0.6025 - val_loss: 0.8244 - val_accuracy: 0.7460\n",
      "Epoch 3/10\n",
      "550/550 [==============================] - 1359s 2s/step - loss: 0.8659 - accuracy: 0.7287 - val_loss: 0.6315 - val_accuracy: 0.7989\n",
      "Epoch 4/10\n",
      "550/550 [==============================] - 3077s 6s/step - loss: 0.6334 - accuracy: 0.7997 - val_loss: 0.3468 - val_accuracy: 0.8869\n",
      "Epoch 5/10\n",
      "550/550 [==============================] - 2058s 4s/step - loss: 0.4729 - accuracy: 0.8500 - val_loss: 0.2551 - val_accuracy: 0.9187\n",
      "Epoch 6/10\n",
      "550/550 [==============================] - 1467s 3s/step - loss: 0.3764 - accuracy: 0.8754 - val_loss: 0.2366 - val_accuracy: 0.9248\n",
      "Epoch 7/10\n",
      "550/550 [==============================] - 1336s 2s/step - loss: 0.2873 - accuracy: 0.9052 - val_loss: 0.1451 - val_accuracy: 0.9541\n",
      "Epoch 8/10\n",
      "550/550 [==============================] - 1904s 3s/step - loss: 0.2396 - accuracy: 0.9211 - val_loss: 0.1371 - val_accuracy: 0.9558\n",
      "Epoch 9/10\n",
      "550/550 [==============================] - 1862s 3s/step - loss: 0.2046 - accuracy: 0.9321 - val_loss: 0.0883 - val_accuracy: 0.9725\n",
      "Epoch 10/10\n",
      "550/550 [==============================] - 1480s 3s/step - loss: 0.1686 - accuracy: 0.9446 - val_loss: 0.0912 - val_accuracy: 0.9722\n"
     ]
    }
   ],
   "source": [
    "training_history=model.fit(x=training_set,validation_data=validation_set,epochs=10)\n"
   ]
  },
  {
   "cell_type": "markdown",
   "metadata": {},
   "source": []
  },
  {
   "cell_type": "markdown",
   "metadata": {},
   "source": [
    "## attained validation accuracy as 98 percent"
   ]
  },
  {
   "cell_type": "markdown",
   "metadata": {},
   "source": [
    "## Model Evaluation"
   ]
  },
  {
   "cell_type": "code",
   "execution_count": 24,
   "metadata": {},
   "outputs": [],
   "source": [
    "### Model Evaluation on training set"
   ]
  },
  {
   "cell_type": "code",
   "execution_count": 25,
   "metadata": {},
   "outputs": [
    {
     "name": "stdout",
     "output_type": "stream",
     "text": [
      "550/550 [==============================] - 214s 389ms/step - loss: 0.0912 - accuracy: 0.9722\n"
     ]
    }
   ],
   "source": [
    "train_loss,train_acc = model.evaluate(training_set)"
   ]
  },
  {
   "cell_type": "code",
   "execution_count": 26,
   "metadata": {},
   "outputs": [
    {
     "name": "stdout",
     "output_type": "stream",
     "text": [
      "0.09119941294193268 0.9721716642379761\n"
     ]
    }
   ],
   "source": [
    "print(train_loss,train_acc)"
   ]
  },
  {
   "cell_type": "code",
   "execution_count": 27,
   "metadata": {},
   "outputs": [],
   "source": [
    "##model on validation set"
   ]
  },
  {
   "cell_type": "code",
   "execution_count": 28,
   "metadata": {},
   "outputs": [
    {
     "name": "stdout",
     "output_type": "stream",
     "text": [
      "550/550 [==============================] - 208s 379ms/step - loss: 0.0912 - accuracy: 0.9722\n"
     ]
    }
   ],
   "source": [
    "val_loss,val_acc = model.evaluate(validation_set)"
   ]
  },
  {
   "cell_type": "code",
   "execution_count": 29,
   "metadata": {},
   "outputs": [
    {
     "name": "stdout",
     "output_type": "stream",
     "text": [
      "0.0911993756890297 0.9721716642379761\n"
     ]
    }
   ],
   "source": [
    "print(val_loss,val_acc)"
   ]
  },
  {
   "cell_type": "markdown",
   "metadata": {},
   "source": [
    "## saving model"
   ]
  },
  {
   "cell_type": "code",
   "execution_count": 33,
   "metadata": {},
   "outputs": [],
   "source": [
    "model.save(\"trained_model.h5\")"
   ]
  },
  {
   "cell_type": "code",
   "execution_count": 34,
   "metadata": {},
   "outputs": [],
   "source": [
    "model.save(\"trained_model.keras\")"
   ]
  },
  {
   "cell_type": "markdown",
   "metadata": {},
   "source": [
    "###model.save('your_model.h5', save_format='h5', include_optimizer=True, compression='gzip', compression_opts=9)\n"
   ]
  },
  {
   "cell_type": "code",
   "execution_count": 36,
   "metadata": {},
   "outputs": [
    {
     "data": {
      "text/plain": [
       "{'loss': [2.6497840881347656,\n",
       "  1.3261082172393799,\n",
       "  0.8658693432807922,\n",
       "  0.6334440112113953,\n",
       "  0.4729057252407074,\n",
       "  0.37643831968307495,\n",
       "  0.28727900981903076,\n",
       "  0.23960070312023163,\n",
       "  0.20458874106407166,\n",
       "  0.16861781477928162],\n",
       " 'accuracy': [0.25682905316352844,\n",
       "  0.6025494933128357,\n",
       "  0.7287161350250244,\n",
       "  0.7997382283210754,\n",
       "  0.8500455021858215,\n",
       "  0.8754268288612366,\n",
       "  0.9052469730377197,\n",
       "  0.9211245179176331,\n",
       "  0.9321079254150391,\n",
       "  0.9446278214454651],\n",
       " 'val_loss': [1.929474949836731,\n",
       "  0.8243516087532043,\n",
       "  0.6315358877182007,\n",
       "  0.34678301215171814,\n",
       "  0.25506672263145447,\n",
       "  0.23656073212623596,\n",
       "  0.14514881372451782,\n",
       "  0.13706569373607635,\n",
       "  0.08834399282932281,\n",
       "  0.09119942039251328],\n",
       " 'val_accuracy': [0.43614840507507324,\n",
       "  0.745959460735321,\n",
       "  0.7988845705986023,\n",
       "  0.8869223594665527,\n",
       "  0.9186774492263794,\n",
       "  0.9247666597366333,\n",
       "  0.9540746808052063,\n",
       "  0.9557819366455078,\n",
       "  0.9725130796432495,\n",
       "  0.9721716642379761]}"
      ]
     },
     "execution_count": 36,
     "metadata": {},
     "output_type": "execute_result"
    }
   ],
   "source": [
    "training_history.history"
   ]
  },
  {
   "cell_type": "markdown",
   "metadata": {},
   "source": [
    "## recording history"
   ]
  },
  {
   "cell_type": "code",
   "execution_count": 38,
   "metadata": {},
   "outputs": [],
   "source": [
    "import json\n",
    "with open(\"training_hist.json\",\"w\") as f:\n",
    "    json.dump(training_history.history,f)"
   ]
  },
  {
   "cell_type": "markdown",
   "metadata": {},
   "source": [
    "## Accuracy visualization"
   ]
  },
  {
   "cell_type": "code",
   "execution_count": 46,
   "metadata": {},
   "outputs": [
    {
     "data": {
      "image/png": "[encoded data removed]",
      "text/plain": [
       "<Figure size 640x480 with 1 Axes>"
      ]
     },
     "metadata": {},
     "output_type": "display_data"
    }
   ],
   "source": [
    "epochs=[i for i in range(1,11)]\n",
    "plt.plot(epochs,training_history.history['accuracy'],color='red',label='Training Accuracy')\n",
    "plt.plot(epochs,training_history.history['val_accuracy'],color='blue',label='Validation Accuracy')\n",
    "plt.xlabel(\"No.of Epoch\")\n",
    "plt.ylabel(\"Accuracy Result\")\n",
    "plt.title(\"Visualization of accuracy result\")\n",
    "plt.legend()\n",
    "plt.show()"
   ]
  }
 ],
 "metadata": {
  "kernelspec": {
   "display_name": "tensorflow_plant_env",
   "language": "python",
   "name": "python3"
  },
  "language_info": {
   "codemirror_mode": {
    "name": "ipython",
    "version": 3
   },
   "file_extension": ".py",
   "mimetype": "text/x-python",
   "name": "python",
   "nbconvert_exporter": "python",
   "pygments_lexer": "ipython3",
   "version": "3.10.16"
  }
 },
 "nbformat": 4,
 "nbformat_minor": 2
}

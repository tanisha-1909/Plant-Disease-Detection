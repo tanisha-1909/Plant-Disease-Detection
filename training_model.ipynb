{
 "cells": [
  {
   "cell_type": "markdown",
   "metadata": {},
   "source": [
    "## Importing libraries"
   ]
  },
  {
   "cell_type": "code",
   "execution_count": 60,
   "metadata": {},
   "outputs": [],
   "source": [
    "import tensorflow as tf\n",
    "import matplotlib.pyplot as plt\n",
    "import pandas as pd\n",
    "import seaborn as sns"
   ]
  },
  {
   "cell_type": "code",
   "execution_count": 61,
   "metadata": {},
   "outputs": [
    {
     "name": "stdout",
     "output_type": "stream",
     "text": [
      "tf.Tensor(582.66626, shape=(), dtype=float32)\n"
     ]
    }
   ],
   "source": [
    "print(tf.reduce_sum(tf.random.normal([1000, 1000])))"
   ]
  },
  {
   "cell_type": "code",
   "execution_count": 62,
   "metadata": {},
   "outputs": [
    {
     "name": "stdout",
     "output_type": "stream",
     "text": [
      "[PhysicalDevice(name='/physical_device:CPU:0', device_type='CPU')]\n"
     ]
    }
   ],
   "source": [
    "print(tf.config.list_physical_devices('CPU'))"
   ]
  },
  {
   "cell_type": "markdown",
   "metadata": {},
   "source": [
    "## Data preprocessing"
   ]
  },
  {
   "cell_type": "markdown",
   "metadata": {},
   "source": [
    "### Training Image Preprocessing"
   ]
  },
  {
   "cell_type": "code",
   "execution_count": 63,
   "metadata": {},
   "outputs": [
    {
     "name": "stdout",
     "output_type": "stream",
     "text": [
      "Found 47391 files belonging to 26 classes.\n"
     ]
    }
   ],
   "source": [
    "training_set=tf.keras.utils.image_dataset_from_directory(\n",
    "    \"train/train\",\n",
    "    labels=\"inferred\",\n",
    "    label_mode=\"categorical\",\n",
    "    class_names=None,\n",
    "    color_mode=\"rgb\",\n",
    "    batch_size=32,\n",
    "    image_size=(128, 128),\n",
    "    shuffle=True,\n",
    "    seed=None,\n",
    "    validation_split=None,\n",
    "    subset=None,\n",
    "    interpolation=\"bilinear\",\n",
    "    follow_links=False,\n",
    "    crop_to_aspect_ratio=False,\n",
    ")"
   ]
  },
  {
   "cell_type": "markdown",
   "metadata": {},
   "source": [
    "## validation image processing"
   ]
  },
  {
   "cell_type": "code",
   "execution_count": 64,
   "metadata": {},
   "outputs": [
    {
     "name": "stdout",
     "output_type": "stream",
     "text": [
      "Found 17572 files belonging to 38 classes.\n"
     ]
    }
   ],
   "source": [
    "validation_set= training_set=tf.keras.utils.image_dataset_from_directory(\n",
    "    \"valid/valid\",\n",
    "    labels=\"inferred\",\n",
    "    label_mode=\"categorical\",\n",
    "    class_names=None,\n",
    "    color_mode=\"rgb\",\n",
    "    batch_size=32,\n",
    "    image_size=(128, 128),\n",
    "    shuffle=True,\n",
    "    seed=None,\n",
    "    validation_split=None,\n",
    "    subset=None,\n",
    "    interpolation=\"bilinear\",\n",
    "    follow_links=False,\n",
    "    crop_to_aspect_ratio=False,\n",
    ")"
   ]
  },
  {
   "cell_type": "code",
   "execution_count": 65,
   "metadata": {},
   "outputs": [
    {
     "data": {
      "text/plain": [
       "<BatchDataset element_spec=(TensorSpec(shape=(None, 128, 128, 3), dtype=tf.float32, name=None), TensorSpec(shape=(None, 38), dtype=tf.float32, name=None))>"
      ]
     },
     "execution_count": 65,
     "metadata": {},
     "output_type": "execute_result"
    }
   ],
   "source": [
    "training_set"
   ]
  },
  {
   "cell_type": "code",
   "execution_count": 66,
   "metadata": {},
   "outputs": [
    {
     "name": "stdout",
     "output_type": "stream",
     "text": [
      "tf.Tensor(\n",
      "[[[[162.5  150.5  160.5 ]\n",
      "   [172.75 160.75 170.75]\n",
      "   [155.   143.   153.  ]\n",
      "   ...\n",
      "   [163.25 152.25 160.25]\n",
      "   [160.   149.   157.  ]\n",
      "   [160.75 149.75 157.75]]\n",
      "\n",
      "  [[156.   144.   154.  ]\n",
      "   [157.   145.   155.  ]\n",
      "   [153.75 141.75 151.75]\n",
      "   ...\n",
      "   [165.75 154.75 162.75]\n",
      "   [171.75 160.75 168.75]\n",
      "   [158.   147.   155.  ]]\n",
      "\n",
      "  [[156.75 144.75 154.75]\n",
      "   [158.   146.   156.  ]\n",
      "   [154.5  142.5  152.5 ]\n",
      "   ...\n",
      "   [160.   149.   157.  ]\n",
      "   [152.5  141.5  149.5 ]\n",
      "   [158.25 147.25 155.25]]\n",
      "\n",
      "  ...\n",
      "\n",
      "  [[ 57.5   60.5   79.5 ]\n",
      "   [ 58.5   61.5   80.5 ]\n",
      "   [ 57.25  60.25  79.25]\n",
      "   ...\n",
      "   [159.75 147.75 157.75]\n",
      "   [166.75 154.75 164.75]\n",
      "   [169.25 157.25 167.25]]\n",
      "\n",
      "  [[ 61.5   64.5   83.5 ]\n",
      "   [ 60.25  63.25  82.25]\n",
      "   [ 55.5   58.5   77.5 ]\n",
      "   ...\n",
      "   [153.75 141.75 151.75]\n",
      "   [162.5  150.5  160.5 ]\n",
      "   [161.   149.   159.  ]]\n",
      "\n",
      "  [[ 60.25  63.25  82.25]\n",
      "   [ 59.75  62.75  81.75]\n",
      "   [ 56.    59.    78.  ]\n",
      "   ...\n",
      "   [155.5  143.5  153.5 ]\n",
      "   [166.25 154.25 164.25]\n",
      "   [182.5  170.5  180.5 ]]]\n",
      "\n",
      "\n",
      " [[[166.75 159.75 166.75]\n",
      "   [167.25 160.25 167.25]\n",
      "   [166.75 159.75 166.75]\n",
      "   ...\n",
      "   [112.75 103.75 108.75]\n",
      "   [111.75 102.75 107.75]\n",
      "   [104.75  95.75 100.75]]\n",
      "\n",
      "  [[165.5  158.5  165.5 ]\n",
      "   [166.75 159.75 166.75]\n",
      "   [167.25 160.25 167.25]\n",
      "   ...\n",
      "   [115.5  106.5  111.5 ]\n",
      "   [111.5  102.5  107.5 ]\n",
      "   [111.5  102.5  107.5 ]]\n",
      "\n",
      "  [[168.75 161.75 168.75]\n",
      "   [169.75 162.75 169.75]\n",
      "   [169.25 162.25 169.25]\n",
      "   ...\n",
      "   [113.75 104.75 109.75]\n",
      "   [110.25 101.25 106.25]\n",
      "   [109.5  100.5  105.5 ]]\n",
      "\n",
      "  ...\n",
      "\n",
      "  [[179.25 172.25 179.25]\n",
      "   [175.75 168.75 175.75]\n",
      "   [181.25 174.25 181.25]\n",
      "   ...\n",
      "   [127.25 118.25 113.25]\n",
      "   [133.   124.   119.  ]\n",
      "   [132.5  123.5  118.5 ]]\n",
      "\n",
      "  [[177.75 170.75 177.75]\n",
      "   [174.   167.   174.  ]\n",
      "   [179.25 172.25 179.25]\n",
      "   ...\n",
      "   [128.5  119.5  114.5 ]\n",
      "   [127.5  118.5  113.5 ]\n",
      "   [129.   120.   115.  ]]\n",
      "\n",
      "  [[177.25 170.25 177.25]\n",
      "   [176.75 169.75 176.75]\n",
      "   [174.5  167.5  174.5 ]\n",
      "   ...\n",
      "   [124.75 115.75 110.75]\n",
      "   [122.75 113.75 108.75]\n",
      "   [127.   118.   113.  ]]]\n",
      "\n",
      "\n",
      " [[[120.   112.   110.  ]\n",
      "   [120.   112.   110.  ]\n",
      "   [114.5  106.5  104.5 ]\n",
      "   ...\n",
      "   [111.   101.    99.  ]\n",
      "   [116.   106.   104.  ]\n",
      "   [111.   101.    99.  ]]\n",
      "\n",
      "  [[113.25 105.25 103.25]\n",
      "   [114.   106.   104.  ]\n",
      "   [121.5  113.5  111.5 ]\n",
      "   ...\n",
      "   [118.5  108.5  106.5 ]\n",
      "   [108.    98.    96.  ]\n",
      "   [113.   103.   101.  ]]\n",
      "\n",
      "  [[117.5  109.5  107.5 ]\n",
      "   [112.   104.   102.  ]\n",
      "   [121.75 113.75 111.75]\n",
      "   ...\n",
      "   [114.25 104.25 102.25]\n",
      "   [113.75 103.75 101.75]\n",
      "   [112.75 102.75 100.75]]\n",
      "\n",
      "  ...\n",
      "\n",
      "  [[154.5  150.5  151.5 ]\n",
      "   [156.5  152.5  153.5 ]\n",
      "   [162.   158.   159.  ]\n",
      "   ...\n",
      "   [157.5  151.5  153.5 ]\n",
      "   [160.25 154.25 156.25]\n",
      "   [160.5  154.5  156.5 ]]\n",
      "\n",
      "  [[167.   163.   164.  ]\n",
      "   [165.   161.   162.  ]\n",
      "   [164.5  160.5  161.5 ]\n",
      "   ...\n",
      "   [159.25 153.25 155.25]\n",
      "   [158.25 152.25 154.25]\n",
      "   [158.   152.   154.  ]]\n",
      "\n",
      "  [[161.75 157.75 158.75]\n",
      "   [163.75 159.75 160.75]\n",
      "   [164.25 160.25 161.25]\n",
      "   ...\n",
      "   [157.75 151.75 153.75]\n",
      "   [156.25 150.25 152.25]\n",
      "   [160.5  154.5  156.5 ]]]\n",
      "\n",
      "\n",
      " ...\n",
      "\n",
      "\n",
      " [[[101.    99.   102.  ]\n",
      "   [ 98.25  96.25  99.25]\n",
      "   [ 96.5   94.75  97.5 ]\n",
      "   ...\n",
      "   [ 90.75  86.25  84.75]\n",
      "   [ 89.75  85.25  83.75]\n",
      "   [ 88.75  84.25  82.75]]\n",
      "\n",
      "  [[203.75 201.75 204.75]\n",
      "   [202.5  200.5  203.5 ]\n",
      "   [206.   204.   207.  ]\n",
      "   ...\n",
      "   [180.   175.   172.  ]\n",
      "   [176.5  171.5  168.5 ]\n",
      "   [174.   169.   166.  ]]\n",
      "\n",
      "  [[205.5  203.5  206.5 ]\n",
      "   [199.75 197.75 200.75]\n",
      "   [203.75 201.75 204.75]\n",
      "   ...\n",
      "   [174.   169.   166.  ]\n",
      "   [169.25 164.25 161.25]\n",
      "   [168.25 163.25 160.25]]\n",
      "\n",
      "  ...\n",
      "\n",
      "  [[131.5  122.5  125.5 ]\n",
      "   [132.75 123.75 126.75]\n",
      "   [135.25 126.25 129.25]\n",
      "   ...\n",
      "   [130.5  118.5  122.5 ]\n",
      "   [111.    99.   101.  ]\n",
      "   [131.75 116.75 119.75]]\n",
      "\n",
      "  [[129.5  120.5  123.5 ]\n",
      "   [132.5  123.5  126.5 ]\n",
      "   [135.25 126.25 129.25]\n",
      "   ...\n",
      "   [128.5  116.5  120.5 ]\n",
      "   [120.75 108.75 110.75]\n",
      "   [116.   101.   104.  ]]\n",
      "\n",
      "  [[135.   126.   129.  ]\n",
      "   [143.5  134.5  137.5 ]\n",
      "   [135.75 126.75 129.75]\n",
      "   ...\n",
      "   [103.25  91.25  95.25]\n",
      "   [111.25  99.25 101.25]\n",
      "   [125.25 110.25 113.25]]]\n",
      "\n",
      "\n",
      " [[[106.25  93.25 100.25]\n",
      "   [114.   101.   108.  ]\n",
      "   [115.   102.   109.  ]\n",
      "   ...\n",
      "   [171.75 164.75 171.75]\n",
      "   [170.75 163.75 170.75]\n",
      "   [166.   159.   166.  ]]\n",
      "\n",
      "  [[113.25 100.25 107.25]\n",
      "   [115.   102.   109.  ]\n",
      "   [115.75 102.75 109.75]\n",
      "   ...\n",
      "   [165.   158.   165.  ]\n",
      "   [166.   159.   166.  ]\n",
      "   [167.25 160.25 167.25]]\n",
      "\n",
      "  [[115.75 102.75 109.75]\n",
      "   [114.25 101.25 108.25]\n",
      "   [115.   102.   109.  ]\n",
      "   ...\n",
      "   [167.25 160.25 167.25]\n",
      "   [167.75 160.75 167.75]\n",
      "   [165.25 158.25 165.25]]\n",
      "\n",
      "  ...\n",
      "\n",
      "  [[112.5   99.5  108.5 ]\n",
      "   [124.75 111.75 120.75]\n",
      "   [121.25 108.25 117.25]\n",
      "   ...\n",
      "   [162.75 152.75 161.75]\n",
      "   [166.5  156.5  165.5 ]\n",
      "   [159.75 149.75 158.75]]\n",
      "\n",
      "  [[110.25  97.25 106.25]\n",
      "   [123.75 110.75 119.75]\n",
      "   [117.   104.   113.  ]\n",
      "   ...\n",
      "   [159.5  149.5  158.5 ]\n",
      "   [163.   153.   162.  ]\n",
      "   [154.25 144.25 153.25]]\n",
      "\n",
      "  [[106.    93.   102.  ]\n",
      "   [121.5  108.5  117.5 ]\n",
      "   [113.75 100.75 109.75]\n",
      "   ...\n",
      "   [162.5  152.5  161.5 ]\n",
      "   [161.5  151.5  160.5 ]\n",
      "   [161.   151.   160.  ]]]\n",
      "\n",
      "\n",
      " [[[198.25 190.25 188.25]\n",
      "   [198.75 190.75 188.75]\n",
      "   [199.75 191.75 189.75]\n",
      "   ...\n",
      "   [183.5  173.5  172.5 ]\n",
      "   [179.   169.   168.  ]\n",
      "   [194.75 184.75 183.75]]\n",
      "\n",
      "  [[195.5  187.5  185.5 ]\n",
      "   [193.5  185.5  183.5 ]\n",
      "   [195.75 187.75 185.75]\n",
      "   ...\n",
      "   [176.25 166.25 165.25]\n",
      "   [188.5  178.5  177.5 ]\n",
      "   [189.5  179.5  178.5 ]]\n",
      "\n",
      "  [[195.75 187.75 185.75]\n",
      "   [194.25 186.25 184.25]\n",
      "   [198.25 190.25 188.25]\n",
      "   ...\n",
      "   [186.75 176.75 175.75]\n",
      "   [184.5  174.5  173.5 ]\n",
      "   [197.5  187.5  186.5 ]]\n",
      "\n",
      "  ...\n",
      "\n",
      "  [[201.   191.   189.  ]\n",
      "   [200.   190.   188.  ]\n",
      "   [205.25 195.25 193.25]\n",
      "   ...\n",
      "   [186.75 175.75 171.75]\n",
      "   [182.   171.   167.  ]\n",
      "   [201.25 190.25 186.25]]\n",
      "\n",
      "  [[200.5  190.5  188.5 ]\n",
      "   [205.75 195.75 193.75]\n",
      "   [201.75 191.75 189.75]\n",
      "   ...\n",
      "   [209.   198.   194.  ]\n",
      "   [197.75 186.75 182.75]\n",
      "   [197.25 186.25 182.25]]\n",
      "\n",
      "  [[197.5  187.5  185.5 ]\n",
      "   [196.25 186.25 184.25]\n",
      "   [200.75 190.75 188.75]\n",
      "   ...\n",
      "   [203.   192.   188.  ]\n",
      "   [196.5  185.5  181.5 ]\n",
      "   [179.75 168.75 164.75]]]], shape=(32, 128, 128, 3), dtype=float32) (32, 128, 128, 3)\n",
      "tf.Tensor(\n",
      "[[0. 0. 0. ... 0. 0. 0.]\n",
      " [0. 0. 0. ... 0. 0. 0.]\n",
      " [0. 0. 0. ... 0. 0. 0.]\n",
      " ...\n",
      " [0. 0. 0. ... 0. 0. 0.]\n",
      " [0. 0. 0. ... 0. 0. 0.]\n",
      " [0. 0. 0. ... 0. 0. 0.]], shape=(32, 38), dtype=float32) (32, 38)\n"
     ]
    }
   ],
   "source": [
    "for x,y in training_set:\n",
    "    print(x,x.shape)\n",
    "    print(y,y.shape)\n",
    "    break"
   ]
  },
  {
   "cell_type": "markdown",
   "metadata": {},
   "source": [
    "## Building Model"
   ]
  },
  {
   "cell_type": "code",
   "execution_count": 67,
   "metadata": {},
   "outputs": [],
   "source": [
    "from tensorflow.keras.layers import Dense,Conv2D,MaxPool2D,Flatten,Dropout\n",
    "from tensorflow.keras.models import Sequential"
   ]
  },
  {
   "cell_type": "code",
   "execution_count": 68,
   "metadata": {},
   "outputs": [],
   "source": [
    "model= Sequential()"
   ]
  },
  {
   "cell_type": "code",
   "execution_count": 69,
   "metadata": {},
   "outputs": [],
   "source": [
    "### Building Convulation Layer"
   ]
  },
  {
   "cell_type": "code",
   "execution_count": 70,
   "metadata": {},
   "outputs": [],
   "source": [
    "model.add(Conv2D(filters=32,kernel_size=3,padding='same',activation='relu', input_shape=[128,128,3]))\n",
    "model.add(Conv2D(filters=32,kernel_size=3,activation='relu'))\n",
    "model.add(MaxPool2D(pool_size=2 , strides=2))"
   ]
  },
  {
   "cell_type": "code",
   "execution_count": 71,
   "metadata": {},
   "outputs": [],
   "source": [
    "model.add(Conv2D(filters=64,kernel_size=3,padding='same',activation='relu', input_shape=[128,128,3]))\n",
    "model.add(Conv2D(filters=64,kernel_size=3,activation='relu'))\n",
    "model.add(MaxPool2D(pool_size=2 , strides=2))"
   ]
  },
  {
   "cell_type": "code",
   "execution_count": 72,
   "metadata": {},
   "outputs": [],
   "source": [
    "model.add(Conv2D(filters=128,kernel_size=3,padding='same',activation='relu', input_shape=[128,128,3]))\n",
    "model.add(Conv2D(filters=128,kernel_size=3,activation='relu'))\n",
    "model.add(MaxPool2D(pool_size=2 , strides=2))"
   ]
  },
  {
   "cell_type": "code",
   "execution_count": 73,
   "metadata": {},
   "outputs": [],
   "source": [
    "model.add(Conv2D(filters=256,kernel_size=3,padding='same',activation='relu'))\n",
    "model.add(Conv2D(filters=256,kernel_size=3,activation='relu'))\n",
    "model.add(MaxPool2D(pool_size=2 , strides=2))"
   ]
  },
  {
   "cell_type": "code",
   "execution_count": 74,
   "metadata": {},
   "outputs": [],
   "source": [
    "model.add(Conv2D(filters=512,kernel_size=3,padding='same',activation='relu'))\n",
    "model.add(Conv2D(filters=512,kernel_size=3,activation='relu'))\n",
    "model.add(MaxPool2D(pool_size=2 , strides=2))"
   ]
  },
  {
   "cell_type": "code",
   "execution_count": 75,
   "metadata": {},
   "outputs": [],
   "source": [
    "model.add(Dropout(0.25))   #to avoid overfitting"
   ]
  },
  {
   "cell_type": "code",
   "execution_count": 76,
   "metadata": {},
   "outputs": [],
   "source": [
    "model.add(Flatten())"
   ]
  },
  {
   "cell_type": "code",
   "execution_count": 77,
   "metadata": {},
   "outputs": [],
   "source": [
    "model.add(Dense(units=1500,activation='relu')) ##Increase neurons"
   ]
  },
  {
   "cell_type": "code",
   "execution_count": 78,
   "metadata": {},
   "outputs": [],
   "source": [
    "model.add(Dropout(0.4))"
   ]
  },
  {
   "cell_type": "code",
   "execution_count": 79,
   "metadata": {},
   "outputs": [],
   "source": [
    "##output layer\n",
    "model.add(Dense(units=38, activation='softmax'))"
   ]
  },
  {
   "cell_type": "markdown",
   "metadata": {},
   "source": [
    "## Compiling Model"
   ]
  },
  {
   "cell_type": "markdown",
   "metadata": {},
   "source": [
    "### to avoid overshooting\n",
    "1. we repalace learning rate from default 0.001 to 0.0001\n",
    "2. there may be chance of underfitting , so increase number of neuron\n",
    "3. we add more convuation layer to extract more feature from image there may be possibility that model is confusing due to lack of feature"
   ]
  },
  {
   "cell_type": "code",
   "execution_count": 80,
   "metadata": {},
   "outputs": [],
   "source": [
    "model.compile(optimizer=tf.keras.optimizers.Adam(\n",
    "    learning_rate=0.0001),loss='categorical_crossentropy', metrics=['accuracy'])"
   ]
  },
  {
   "cell_type": "code",
   "execution_count": 81,
   "metadata": {},
   "outputs": [
    {
     "name": "stdout",
     "output_type": "stream",
     "text": [
      "Model: \"sequential_3\"\n",
      "_________________________________________________________________\n",
      " Layer (type)                Output Shape              Param #   \n",
      "=================================================================\n",
      " conv2d_19 (Conv2D)          (None, 128, 128, 32)      896       \n",
      "                                                                 \n",
      " conv2d_20 (Conv2D)          (None, 126, 126, 32)      9248      \n",
      "                                                                 \n",
      " max_pooling2d_7 (MaxPooling  (None, 63, 63, 32)       0         \n",
      " 2D)                                                             \n",
      "                                                                 \n",
      " conv2d_21 (Conv2D)          (None, 63, 63, 64)        18496     \n",
      "                                                                 \n",
      " conv2d_22 (Conv2D)          (None, 61, 61, 64)        36928     \n",
      "                                                                 \n",
      " max_pooling2d_8 (MaxPooling  (None, 30, 30, 64)       0         \n",
      " 2D)                                                             \n",
      "                                                                 \n",
      " conv2d_23 (Conv2D)          (None, 30, 30, 128)       73856     \n",
      "                                                                 \n",
      " conv2d_24 (Conv2D)          (None, 28, 28, 128)       147584    \n",
      "                                                                 \n",
      " max_pooling2d_9 (MaxPooling  (None, 14, 14, 128)      0         \n",
      " 2D)                                                             \n",
      "                                                                 \n",
      " conv2d_25 (Conv2D)          (None, 14, 14, 256)       295168    \n",
      "                                                                 \n",
      " conv2d_26 (Conv2D)          (None, 12, 12, 256)       590080    \n",
      "                                                                 \n",
      " max_pooling2d_10 (MaxPoolin  (None, 6, 6, 256)        0         \n",
      " g2D)                                                            \n",
      "                                                                 \n",
      " conv2d_27 (Conv2D)          (None, 6, 6, 512)         1180160   \n",
      "                                                                 \n",
      " conv2d_28 (Conv2D)          (None, 4, 4, 512)         2359808   \n",
      "                                                                 \n",
      " max_pooling2d_11 (MaxPoolin  (None, 2, 2, 512)        0         \n",
      " g2D)                                                            \n",
      "                                                                 \n",
      " dropout (Dropout)           (None, 2, 2, 512)         0         \n",
      "                                                                 \n",
      " flatten_1 (Flatten)         (None, 2048)              0         \n",
      "                                                                 \n",
      " dense_4 (Dense)             (None, 1500)              3073500   \n",
      "                                                                 \n",
      " dropout_1 (Dropout)         (None, 1500)              0         \n",
      "                                                                 \n",
      " dense_5 (Dense)             (None, 38)                57038     \n",
      "                                                                 \n",
      "=================================================================\n",
      "Total params: 7,842,762\n",
      "Trainable params: 7,842,762\n",
      "Non-trainable params: 0\n",
      "_________________________________________________________________\n"
     ]
    }
   ],
   "source": [
    "model.summary()"
   ]
  },
  {
   "cell_type": "markdown",
   "metadata": {},
   "source": [
    "## Model training ---"
   ]
  },
  {
   "cell_type": "code",
   "execution_count": 82,
   "metadata": {},
   "outputs": [
    {
     "name": "stdout",
     "output_type": "stream",
     "text": [
      "Epoch 1/10\n",
      "550/550 [==============================] - 1295s 2s/step - loss: 2.5483 - accuracy: 0.2891 - val_loss: 1.4431 - val_accuracy: 0.5760\n",
      "Epoch 2/10\n",
      "550/550 [==============================] - 1300s 2s/step - loss: 1.2689 - accuracy: 0.6173 - val_loss: 0.7614 - val_accuracy: 0.7686\n",
      "Epoch 3/10\n",
      "550/550 [==============================] - 1315s 2s/step - loss: 0.8398 - accuracy: 0.7420 - val_loss: 0.6491 - val_accuracy: 0.7988\n",
      "Epoch 4/10\n",
      "550/550 [==============================] - 1285s 2s/step - loss: 0.6191 - accuracy: 0.8037 - val_loss: 0.3864 - val_accuracy: 0.8758\n",
      "Epoch 5/10\n",
      "550/550 [==============================] - 1299s 2s/step - loss: 0.4661 - accuracy: 0.8513 - val_loss: 0.3555 - val_accuracy: 0.8834\n",
      "Epoch 6/10\n",
      "550/550 [==============================] - 1362s 2s/step - loss: 0.3508 - accuracy: 0.8847 - val_loss: 0.2049 - val_accuracy: 0.9345\n",
      "Epoch 7/10\n",
      "550/550 [==============================] - 1427s 3s/step - loss: 0.2997 - accuracy: 0.9013 - val_loss: 0.1681 - val_accuracy: 0.9456\n",
      "Epoch 8/10\n",
      "550/550 [==============================] - 1634s 3s/step - loss: 0.2135 - accuracy: 0.9298 - val_loss: 0.1511 - val_accuracy: 0.9513\n",
      "Epoch 9/10\n",
      "550/550 [==============================] - 1285s 2s/step - loss: 0.1888 - accuracy: 0.9391 - val_loss: 0.1404 - val_accuracy: 0.9529\n",
      "Epoch 10/10\n",
      "550/550 [==============================] - 1152s 2s/step - loss: 0.1652 - accuracy: 0.9452 - val_loss: 0.0639 - val_accuracy: 0.9802\n"
     ]
    }
   ],
   "source": [
    "training_history=model.fit(x=training_set,validation_data=validation_set,epochs=10)\n"
   ]
  },
  {
   "cell_type": "code",
   "execution_count": null,
   "metadata": {},
   "outputs": [],
   "source": []
  }
 ],
 "metadata": {
  "kernelspec": {
   "display_name": "tensorflow_plant_env",
   "language": "python",
   "name": "python3"
  },
  "language_info": {
   "codemirror_mode": {
    "name": "ipython",
    "version": 3
   },
   "file_extension": ".py",
   "mimetype": "text/x-python",
   "name": "python",
   "nbconvert_exporter": "python",
   "pygments_lexer": "ipython3",
   "version": "3.10.16"
  }
 },
 "nbformat": 4,
 "nbformat_minor": 2
}
